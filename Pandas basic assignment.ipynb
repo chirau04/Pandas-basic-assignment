{
 "cells": [
  {
   "cell_type": "code",
   "execution_count": 2,
   "id": "55d0156d-094b-4722-97ed-3a0ac76a04d8",
   "metadata": {},
   "outputs": [
    {
     "name": "stdout",
     "output_type": "stream",
     "text": [
      "0     4\n",
      "1     8\n",
      "2    15\n",
      "3    16\n",
      "4    23\n",
      "5    42\n",
      "dtype: int64\n"
     ]
    }
   ],
   "source": [
    "import pandas as pd \n",
    "\n",
    "data = [4,8,15,16,23,42]\n",
    "series = pd.Series(data)\n",
    "print(series)"
   ]
  },
  {
   "cell_type": "code",
   "execution_count": 4,
   "id": "bf574625-5740-4bcf-9d3d-9ee31de2dcbb",
   "metadata": {},
   "outputs": [
    {
     "name": "stdout",
     "output_type": "stream",
     "text": [
      "0     1\n",
      "1     2\n",
      "2     3\n",
      "3     4\n",
      "4     5\n",
      "5     6\n",
      "6     7\n",
      "7     8\n",
      "8     9\n",
      "9    10\n",
      "dtype: int64\n"
     ]
    }
   ],
   "source": [
    "import pandas as pd \n",
    "\n",
    "my_list = [1,2,3,4,5,6,7,8,9,10]\n",
    "my_series = pd.Series(my_list)\n",
    "print(my_series)"
   ]
  },
  {
   "cell_type": "code",
   "execution_count": 6,
   "id": "1e22b96a-271d-454a-a39f-0cf5c4a16376",
   "metadata": {},
   "outputs": [
    {
     "name": "stdout",
     "output_type": "stream",
     "text": [
      "     Name  Age  Gender\n",
      "0   Alice   25  female\n",
      "1     Bob   30    male\n",
      "2  Claire   27  female\n"
     ]
    }
   ],
   "source": [
    "import pandas as pd \n",
    "\n",
    "data = {'Name' : ['Alice' , 'Bob', 'Claire'],\n",
    "        'Age' : [25,30,27],\n",
    "        'Gender' : ['female', 'male', 'female']}\n",
    "df = pd.DataFrame(data)\n",
    "print(df)"
   ]
  },
  {
   "cell_type": "markdown",
   "id": "152c27c3-f6ca-4dae-82d6-03cf03667564",
   "metadata": {},
   "source": [
    "In Pandas, a DataFrame is a two-dimensional, tabular data structure that consists of rows and columns. It can be thought of as a container for Series objects where each column is a Series. Essentially, a DataFrame is a collection of Pandas Series that share the same index.\n",
    "\n",
    "On the other hand, a Pandas Series is a one-dimensional labeled array capable of holding any data type. It is similar to a column in a DataFrame but represents a single column of data."
   ]
  },
  {
   "cell_type": "code",
   "execution_count": 7,
   "id": "c652b43e-f215-473a-bafe-7632fe700987",
   "metadata": {},
   "outputs": [
    {
     "name": "stdout",
     "output_type": "stream",
     "text": [
      "DataFrame:\n",
      "     Name  Age\n",
      "0   Alice   25\n",
      "1     Bob   30\n",
      "2  Claire   27\n",
      "\n",
      "Series (Age column):\n",
      "0    25\n",
      "1    30\n",
      "2    27\n",
      "Name: Age, dtype: int64\n"
     ]
    }
   ],
   "source": [
    "import pandas as pd\n",
    "\n",
    "# Creating a DataFrame with two columns (Name and Age)\n",
    "data = {'Name': ['Alice', 'Bob', 'Claire'],\n",
    "        'Age': [25, 30, 27]}\n",
    "\n",
    "df = pd.DataFrame(data)\n",
    "print(\"DataFrame:\")\n",
    "print(df)\n",
    "\n",
    "# Creating a Series for the 'Age' column from the DataFrame\n",
    "age_series = df['Age']\n",
    "print(\"\\nSeries (Age column):\")\n",
    "print(age_series)"
   ]
  },
  {
   "cell_type": "markdown",
   "id": "b5b87cc4-113f-4211-8a39-195d650416d6",
   "metadata": {},
   "source": [
    "1. head() and tail(): display the first or last few rows of the dataframe."
   ]
  },
  {
   "cell_type": "code",
   "execution_count": 8,
   "id": "3dc39a20-8416-4660-9504-3c93acdfc669",
   "metadata": {},
   "outputs": [
    {
     "data": {
      "text/html": [
       "<div>\n",
       "<style scoped>\n",
       "    .dataframe tbody tr th:only-of-type {\n",
       "        vertical-align: middle;\n",
       "    }\n",
       "\n",
       "    .dataframe tbody tr th {\n",
       "        vertical-align: top;\n",
       "    }\n",
       "\n",
       "    .dataframe thead th {\n",
       "        text-align: right;\n",
       "    }\n",
       "</style>\n",
       "<table border=\"1\" class=\"dataframe\">\n",
       "  <thead>\n",
       "    <tr style=\"text-align: right;\">\n",
       "      <th></th>\n",
       "      <th>Name</th>\n",
       "      <th>Age</th>\n",
       "    </tr>\n",
       "  </thead>\n",
       "  <tbody>\n",
       "    <tr>\n",
       "      <th>0</th>\n",
       "      <td>Alice</td>\n",
       "      <td>25</td>\n",
       "    </tr>\n",
       "    <tr>\n",
       "      <th>1</th>\n",
       "      <td>Bob</td>\n",
       "      <td>30</td>\n",
       "    </tr>\n",
       "    <tr>\n",
       "      <th>2</th>\n",
       "      <td>Claire</td>\n",
       "      <td>27</td>\n",
       "    </tr>\n",
       "  </tbody>\n",
       "</table>\n",
       "</div>"
      ],
      "text/plain": [
       "     Name  Age\n",
       "0   Alice   25\n",
       "1     Bob   30\n",
       "2  Claire   27"
      ]
     },
     "execution_count": 8,
     "metadata": {},
     "output_type": "execute_result"
    }
   ],
   "source": [
    "df.head()"
   ]
  },
  {
   "cell_type": "markdown",
   "id": "47dbbba3-b39b-4a2e-ac01-d912adeff99a",
   "metadata": {},
   "source": [
    "2. info(): provides a concise summary of the dataframe, including data types and missing values. "
   ]
  },
  {
   "cell_type": "code",
   "execution_count": 9,
   "id": "7b01b209-3421-4234-812a-54c5fd6b50a1",
   "metadata": {},
   "outputs": [
    {
     "name": "stdout",
     "output_type": "stream",
     "text": [
      "<class 'pandas.core.frame.DataFrame'>\n",
      "RangeIndex: 3 entries, 0 to 2\n",
      "Data columns (total 2 columns):\n",
      " #   Column  Non-Null Count  Dtype \n",
      "---  ------  --------------  ----- \n",
      " 0   Name    3 non-null      object\n",
      " 1   Age     3 non-null      int64 \n",
      "dtypes: int64(1), object(1)\n",
      "memory usage: 176.0+ bytes\n"
     ]
    }
   ],
   "source": [
    "df.info()"
   ]
  },
  {
   "cell_type": "markdown",
   "id": "37965c1b-a4e5-4a2c-9b34-afc7089c4157",
   "metadata": {},
   "source": [
    "3. describe(): generates descriptivestatistics of the dataframe's numeric columns."
   ]
  },
  {
   "cell_type": "code",
   "execution_count": 10,
   "id": "da4ad9c3-3431-4078-bce8-daac1012725b",
   "metadata": {},
   "outputs": [
    {
     "data": {
      "text/html": [
       "<div>\n",
       "<style scoped>\n",
       "    .dataframe tbody tr th:only-of-type {\n",
       "        vertical-align: middle;\n",
       "    }\n",
       "\n",
       "    .dataframe tbody tr th {\n",
       "        vertical-align: top;\n",
       "    }\n",
       "\n",
       "    .dataframe thead th {\n",
       "        text-align: right;\n",
       "    }\n",
       "</style>\n",
       "<table border=\"1\" class=\"dataframe\">\n",
       "  <thead>\n",
       "    <tr style=\"text-align: right;\">\n",
       "      <th></th>\n",
       "      <th>Age</th>\n",
       "    </tr>\n",
       "  </thead>\n",
       "  <tbody>\n",
       "    <tr>\n",
       "      <th>count</th>\n",
       "      <td>3.000000</td>\n",
       "    </tr>\n",
       "    <tr>\n",
       "      <th>mean</th>\n",
       "      <td>27.333333</td>\n",
       "    </tr>\n",
       "    <tr>\n",
       "      <th>std</th>\n",
       "      <td>2.516611</td>\n",
       "    </tr>\n",
       "    <tr>\n",
       "      <th>min</th>\n",
       "      <td>25.000000</td>\n",
       "    </tr>\n",
       "    <tr>\n",
       "      <th>25%</th>\n",
       "      <td>26.000000</td>\n",
       "    </tr>\n",
       "    <tr>\n",
       "      <th>50%</th>\n",
       "      <td>27.000000</td>\n",
       "    </tr>\n",
       "    <tr>\n",
       "      <th>75%</th>\n",
       "      <td>28.500000</td>\n",
       "    </tr>\n",
       "    <tr>\n",
       "      <th>max</th>\n",
       "      <td>30.000000</td>\n",
       "    </tr>\n",
       "  </tbody>\n",
       "</table>\n",
       "</div>"
      ],
      "text/plain": [
       "             Age\n",
       "count   3.000000\n",
       "mean   27.333333\n",
       "std     2.516611\n",
       "min    25.000000\n",
       "25%    26.000000\n",
       "50%    27.000000\n",
       "75%    28.500000\n",
       "max    30.000000"
      ]
     },
     "execution_count": 10,
     "metadata": {},
     "output_type": "execute_result"
    }
   ],
   "source": [
    "df.describe()"
   ]
  },
  {
   "cell_type": "markdown",
   "id": "7dcf486a-bac3-4693-8d2d-43aff08c7007",
   "metadata": {},
   "source": [
    "4. shape: returns the dimensions (rows, columns) of the dataframe."
   ]
  },
  {
   "cell_type": "code",
   "execution_count": 11,
   "id": "e0bd2089-7063-4947-b4a3-85e3b33626f1",
   "metadata": {},
   "outputs": [
    {
     "data": {
      "text/plain": [
       "(3, 2)"
      ]
     },
     "execution_count": 11,
     "metadata": {},
     "output_type": "execute_result"
    }
   ],
   "source": [
    "df.shape"
   ]
  },
  {
   "cell_type": "markdown",
   "id": "71e2798b-d06c-4b0e-9269-e313fd1c2cee",
   "metadata": {},
   "source": [
    "5. loc[] and iloc[]; access a group of rows and columns by label or integer index. "
   ]
  },
  {
   "cell_type": "markdown",
   "id": "16864c7a-e7b5-4975-8b86-054330f65726",
   "metadata": {},
   "source": [
    "6. drop(): remove specified labels from rows or columns."
   ]
  },
  {
   "cell_type": "markdown",
   "id": "336ddcec-af42-4f9c-8f5f-f1114fd7cd78",
   "metadata": {},
   "source": [
    "7. groupby(): group dataframe using a mapper or by a series or columns."
   ]
  },
  {
   "cell_type": "markdown",
   "id": "71394c0c-43a3-4e5b-8c4c-d98a5bb971c1",
   "metadata": {},
   "source": [
    "8. sort_values(): sort dataframe by one or more columns. "
   ]
  },
  {
   "cell_type": "markdown",
   "id": "b2ffddb5-1bf3-42dd-b3ce-d9656a9b413b",
   "metadata": {},
   "source": [
    "9. fillna(): fill missing values in the dataframe."
   ]
  },
  {
   "cell_type": "markdown",
   "id": "4b276239-e747-43b9-99b2-71a32f949d67",
   "metadata": {},
   "source": [
    "10. pivot_table(): create a spreadsheet-style pivot table. "
   ]
  },
  {
   "cell_type": "markdown",
   "id": "17449fec-0913-41c9-9ff0-0e1ac59c11f4",
   "metadata": {},
   "source": [
    "In Pandas, among Series, DataFrame, and Panel, only DataFrame is mutable in nature. This means you can modify the contents of a DataFrame after it has been created. You can add or remove columns, modify values, and perform various operations on the DataFrame.\n",
    "\n",
    "On the other hand, Series and Panel are immutable. Once created, you cannot change the values of elements in a Series or a Panel directly. If you need to modify a Series or Panel, you typically create a new one with the desired changes."
   ]
  },
  {
   "cell_type": "code",
   "execution_count": 15,
   "id": "5d19c333-2c94-499a-96d8-f4082bf22051",
   "metadata": {},
   "outputs": [
    {
     "name": "stdout",
     "output_type": "stream",
     "text": [
      "   Column_A Column_B\n",
      "0         1    apple\n",
      "1         2   banana\n",
      "2         3   orange\n",
      "3         4    grape\n"
     ]
    }
   ],
   "source": [
    "import pandas as pd\n",
    "\n",
    "# Creating two Series\n",
    "series1 = pd.Series([1, 2, 3, 4], name='Column_A')\n",
    "series2 = pd.Series(['apple', 'banana', 'orange', 'grape'], name='Column_B')\n",
    "\n",
    "# Combining the Series into a DataFrame\n",
    "df = pd.DataFrame({'Column_A': series1, 'Column_B': series2})\n",
    "\n",
    "# Displaying the resulting DataFrame\n",
    "print(df)"
   ]
  },
  {
   "cell_type": "markdown",
   "id": "3b4fd6dc-cb54-4eba-9ab9-a1bb95b0c696",
   "metadata": {},
   "source": [
    "In this example, we first create two Series (series1 and series2). Then, we use the pd.DataFrame() constructor to combine these Series into a DataFrame. The keys of the dictionary passed to the constructor become the column names, and the corresponding Series become the columns of the DataFrame."
   ]
  },
  {
   "cell_type": "code",
   "execution_count": null,
   "id": "8092e28a-422a-4cc9-b3fd-3f87dd5880e9",
   "metadata": {},
   "outputs": [],
   "source": []
  }
 ],
 "metadata": {
  "kernelspec": {
   "display_name": "Python 3 (ipykernel)",
   "language": "python",
   "name": "python3"
  },
  "language_info": {
   "codemirror_mode": {
    "name": "ipython",
    "version": 3
   },
   "file_extension": ".py",
   "mimetype": "text/x-python",
   "name": "python",
   "nbconvert_exporter": "python",
   "pygments_lexer": "ipython3",
   "version": "3.10.8"
  }
 },
 "nbformat": 4,
 "nbformat_minor": 5
}
